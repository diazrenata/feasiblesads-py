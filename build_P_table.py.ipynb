{
 "cells": [
  {
   "cell_type": "markdown",
   "id": "9dc0e035",
   "metadata": {},
   "source": [
    "## Build a k-table.\n",
    "\n",
    "The k-table is the table of the maximum abundance for the minimum abundance species in a community of s species and n total abundance.\n",
    "\n",
    "Params:\n",
    "max_s: max number of species\n",
    "max_n: max number of individuals\n",
    "\n",
    "Returns:\n",
    "table of ks for all combinations of s and n up to max_s and max_n.\n"
   ]
  },
  {
   "cell_type": "code",
   "execution_count": 135,
   "id": "1534c2f2",
   "metadata": {},
   "outputs": [],
   "source": [
    "import numpy as np\n",
    "import math as math\n",
    "import pandas as pd\n",
    "import csv"
   ]
  },
  {
   "cell_type": "code",
   "execution_count": 4,
   "id": "fb3e8649",
   "metadata": {},
   "outputs": [],
   "source": [
    "def fill_ks(max_s, max_n):\n",
    "    kmax = np.zeros(shape = [max_s, max_n + 1], dtype = int)\n",
    "    \n",
    "    for i in range(max_s):\n",
    "        for j in range(max_n + 1):\n",
    "            kmax[i, j] = math.floor(j / (i + 1))\n",
    "    \n",
    "    return(kmax)"
   ]
  },
  {
   "cell_type": "code",
   "execution_count": 56,
   "id": "859cad17",
   "metadata": {},
   "outputs": [
    {
     "data": {
      "text/plain": [
       "array([[ 0,  1,  2,  3,  4,  5,  6,  7,  8,  9, 10],\n",
       "       [ 0,  0,  1,  1,  2,  2,  3,  3,  4,  4,  5],\n",
       "       [ 0,  0,  0,  1,  1,  1,  2,  2,  2,  3,  3],\n",
       "       [ 0,  0,  0,  0,  1,  1,  1,  1,  2,  2,  2],\n",
       "       [ 0,  0,  0,  0,  0,  1,  1,  1,  1,  1,  2]])"
      ]
     },
     "execution_count": 56,
     "metadata": {},
     "output_type": "execute_result"
    }
   ],
   "source": [
    "fill_ks(5, 10)"
   ]
  },
  {
   "cell_type": "markdown",
   "id": "e4c404ac",
   "metadata": {},
   "source": [
    "## Build the partition counts table\n",
    "\n",
    "Recursively build P(s, n).\n",
    "\n",
    "Params:\n",
    "max_s: max number of species\n",
    "max_n: max individuals\n",
    "\n",
    "Returns:\n",
    "matrix of P(s,n) for all combinations of s and n up to max_s and max_n\n",
    "\n",
    "Is a nightmare zone of off-by-one indexing errors, I think."
   ]
  },
  {
   "cell_type": "code",
   "execution_count": 2,
   "id": "d1a2c0e5",
   "metadata": {},
   "outputs": [],
   "source": [
    "max_s = 5\n",
    "max_n = 10"
   ]
  },
  {
   "cell_type": "code",
   "execution_count": 45,
   "id": "6f4339ef",
   "metadata": {},
   "outputs": [],
   "source": [
    "\n",
    "\n",
    "ps = np.full(shape = [max_s, max_n + 1], fill_value= np.nan)\n",
    "ps[0, range(max_n + 1)] = 1\n",
    "ps[range(max_s), 0] = 1\n",
    "ps[range(max_s), 1] = 1\n",
    "\n",
    "\n",
    "kmax = fill_ks(max_s, max_n)\n"
   ]
  },
  {
   "cell_type": "code",
   "execution_count": 56,
   "id": "18348b41",
   "metadata": {},
   "outputs": [
    {
     "data": {
      "text/plain": [
       "1"
      ]
     },
     "execution_count": 56,
     "metadata": {},
     "output_type": "execute_result"
    }
   ],
   "source": []
  },
  {
   "cell_type": "code",
   "execution_count": 143,
   "id": "c0605690",
   "metadata": {},
   "outputs": [],
   "source": [
    "# s goes from 2:max_s\n",
    "# n goes from 3:max_n + 1\n",
    "\n",
    "ss = list()\n",
    "ns = list()\n",
    "kmaxs = list()\n",
    "ks = list()\n",
    "p_lookups = list()\n",
    "p_rows = list()\n",
    "p_cols = list()\n",
    "\n",
    "def p_lookup(k, s, n, ps):\n",
    "    this_p = ps[s - 1, n - ((s + 1) * k) + 1]\n",
    "    return(this_p)\n",
    "\n",
    "for i in range(1, ps.shape[0]):\n",
    "    \n",
    "    #print(kmax[i, ])\n",
    "    \n",
    "    for j in range(2, ps.shape[1]):\n",
    "        \n",
    "        n = j - 1\n",
    "        \n",
    "        \n",
    "        for k in range(0, kmax[i, n + 1] + 1): # here you need the +1 because range() stops at stop-1\n",
    "            \n",
    "            \n",
    "            kmaxs.append(kmax[i,n + 1])\n",
    "            ss.append(i)\n",
    "            ns.append(j)\n",
    "            ks.append(k)\n",
    "            p_rows.append(i - 1)\n",
    "            p_cols.append(n - ((i + 1) * k) + 1)\n",
    "            p_lookups.append(p_lookup(k, i, n, ps))\n",
    "        \n",
    "\n",
    "ps[p_rows[92], p_cols[92]]\n",
    "\n",
    "\n",
    "\n",
    "indices = pd.DataFrame(list(zip(ss, ns, ks, p_rows, p_cols, p_lookups)), columns = ['s', 'n', 'k', 'p_row', 'p_col', 'p_lookedup'])\n",
    "indices\n",
    "\n",
    "indices.to_csv(\"indices.csv\", index = False)  "
   ]
  },
  {
   "cell_type": "code",
   "execution_count": 105,
   "id": "6e662879",
   "metadata": {},
   "outputs": [
    {
     "name": "stdout",
     "output_type": "stream",
     "text": [
      "0\n",
      "1\n"
     ]
    }
   ],
   "source": []
  },
  {
   "cell_type": "code",
   "execution_count": 78,
   "id": "8ec5c88a",
   "metadata": {},
   "outputs": [],
   "source": [
    "\n"
   ]
  },
  {
   "cell_type": "code",
   "execution_count": 76,
   "id": "886fa9f6",
   "metadata": {},
   "outputs": [],
   "source": []
  },
  {
   "cell_type": "code",
   "execution_count": 77,
   "id": "681ec59f",
   "metadata": {},
   "outputs": [
    {
     "data": {
      "text/plain": [
       "array([[1., 1., 1., 1., 1., 1., 1., 1., 1., 1., 1.],\n",
       "       [1., 1., 0., 0., 0., 0., 0., 0., 0., 0., 0.],\n",
       "       [1., 1., 0., 1., 1., 1., 1., 1., 1., 1., 1.],\n",
       "       [1., 1., 0., 0., 1., 1., 2., 2., 3., 3., 4.],\n",
       "       [1., 1., 0., 0., 0., 0., 0., 0., 0., 0., 0.]])"
      ]
     },
     "execution_count": 77,
     "metadata": {},
     "output_type": "execute_result"
    }
   ],
   "source": []
  },
  {
   "cell_type": "code",
   "execution_count": 64,
   "id": "5854ca48",
   "metadata": {},
   "outputs": [
    {
     "data": {
      "text/plain": [
       "array([[ 0,  1,  2,  3,  4,  5,  6,  7,  8,  9, 10],\n",
       "       [ 0,  0,  1,  1,  2,  2,  3,  3,  4,  4,  5],\n",
       "       [ 0,  0,  0,  1,  1,  1,  2,  2,  2,  3,  3],\n",
       "       [ 0,  0,  0,  0,  1,  1,  1,  1,  2,  2,  2],\n",
       "       [ 0,  0,  0,  0,  0,  1,  1,  1,  1,  1,  2]])"
      ]
     },
     "execution_count": 64,
     "metadata": {},
     "output_type": "execute_result"
    }
   ],
   "source": []
  },
  {
   "cell_type": "code",
   "execution_count": 66,
   "id": "1ae2b685",
   "metadata": {},
   "outputs": [
    {
     "data": {
      "text/plain": [
       "0"
      ]
     },
     "execution_count": 66,
     "metadata": {},
     "output_type": "execute_result"
    }
   ],
   "source": []
  }
 ],
 "metadata": {
  "kernelspec": {
   "display_name": "Python 3 (ipykernel)",
   "language": "python",
   "name": "python3"
  },
  "language_info": {
   "codemirror_mode": {
    "name": "ipython",
    "version": 3
   },
   "file_extension": ".py",
   "mimetype": "text/x-python",
   "name": "python",
   "nbconvert_exporter": "python",
   "pygments_lexer": "ipython3",
   "version": "3.9.12"
  }
 },
 "nbformat": 4,
 "nbformat_minor": 5
}
