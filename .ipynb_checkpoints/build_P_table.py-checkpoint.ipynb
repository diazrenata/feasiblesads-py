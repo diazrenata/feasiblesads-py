{
 "cells": [
  {
   "cell_type": "markdown",
   "id": "9dc0e035",
   "metadata": {},
   "source": [
    "## Build a k-table.\n",
    "\n",
    "The k-table is the table of the maximum abundance for the minimum abundance species in a community of s species and n total abundance.\n",
    "\n",
    "Params:\n",
    "max_s: max number of species\n",
    "max_n: max number of individuals\n",
    "\n",
    "Returns:\n",
    "table of ks for all combinations of s and n up to max_s and max_n.\n"
   ]
  },
  {
   "cell_type": "code",
   "execution_count": 55,
   "id": "fb3e8649",
   "metadata": {},
   "outputs": [],
   "source": [
    "import numpy as np\n",
    "import math as math\n",
    "\n",
    "def fill_ks(max_s, max_n):\n",
    "    kmax = np.zeros(shape = [max_s, max_n + 1], dtype = int)\n",
    "    \n",
    "    for i in range(max_s):\n",
    "        for j in range(max_n + 1):\n",
    "            kmax[i, j] = math.floor(j / (i + 1))\n",
    "    \n",
    "    return(kmax)\n"
   ]
  },
  {
   "cell_type": "code",
   "execution_count": 56,
   "id": "859cad17",
   "metadata": {},
   "outputs": [
    {
     "data": {
      "text/plain": [
       "array([[ 0,  1,  2,  3,  4,  5,  6,  7,  8,  9, 10],\n",
       "       [ 0,  0,  1,  1,  2,  2,  3,  3,  4,  4,  5],\n",
       "       [ 0,  0,  0,  1,  1,  1,  2,  2,  2,  3,  3],\n",
       "       [ 0,  0,  0,  0,  1,  1,  1,  1,  2,  2,  2],\n",
       "       [ 0,  0,  0,  0,  0,  1,  1,  1,  1,  1,  2]])"
      ]
     },
     "execution_count": 56,
     "metadata": {},
     "output_type": "execute_result"
    }
   ],
   "source": [
    "fill_ks(5, 10)"
   ]
  },
  {
   "cell_type": "markdown",
   "id": "e4c404ac",
   "metadata": {},
   "source": [
    "## Build the partition counts table\n",
    "\n",
    "Recursively build P(s, n).\n",
    "\n",
    "Params:\n",
    "max_s: max number of species\n",
    "max_n: max individuals\n",
    "\n",
    "Returns:\n",
    "matrix of P(s,n) for all combinations of s and n up to max_s and max_n\n",
    "\n",
    "Is a nightmare zone of off-by-one indexing errors, I think."
   ]
  },
  {
   "cell_type": "code",
   "execution_count": 58,
   "id": "d1a2c0e5",
   "metadata": {},
   "outputs": [],
   "source": [
    "max_s = 5\n",
    "max_n = 10"
   ]
  },
  {
   "cell_type": "code",
   "execution_count": 78,
   "id": "8ec5c88a",
   "metadata": {},
   "outputs": [],
   "source": [
    "def p_lookup(k, s, n, ps):\n",
    "    this_p = ps[s-1, n - (s*k) + 1]\n",
    "    return(this_p)\n"
   ]
  },
  {
   "cell_type": "code",
   "execution_count": 76,
   "id": "886fa9f6",
   "metadata": {},
   "outputs": [],
   "source": [
    "def p_over_k(s, n, kmax, ps):\n",
    "    sum_p = 0\n",
    "    this_kmax = kmax[s, n + 1]\n",
    "    \n",
    "    for k in range(this_kmax):\n",
    "        sum_p = sum_p + p_lookup(k, s, n, ps)\n",
    "    \n",
    "    return(sum_p)"
   ]
  },
  {
   "cell_type": "code",
   "execution_count": 77,
   "id": "681ec59f",
   "metadata": {},
   "outputs": [
    {
     "data": {
      "text/plain": [
       "array([[1., 1., 1., 1., 1., 1., 1., 1., 1., 1., 1.],\n",
       "       [1., 1., 0., 0., 0., 0., 0., 0., 0., 0., 0.],\n",
       "       [1., 1., 0., 1., 1., 1., 1., 1., 1., 1., 1.],\n",
       "       [1., 1., 0., 0., 1., 1., 2., 2., 3., 3., 4.],\n",
       "       [1., 1., 0., 0., 0., 0., 0., 0., 0., 0., 0.]])"
      ]
     },
     "execution_count": 77,
     "metadata": {},
     "output_type": "execute_result"
    }
   ],
   "source": [
    "#def fill_ps(max_s, max_n):\n",
    "\n",
    "ps = np.zeros(shape = [max_s, max_n + 1])\n",
    "ps[0, range(max_n + 1)] = 1\n",
    "ps[range(max_s), 0] = 1\n",
    "ps[range(max_s), 1] = 1\n",
    "\n",
    "\n",
    "kmax = fill_ks(max_s, max_n)\n",
    "\n",
    "for i in range(1, max_s):\n",
    "    for j in range(2, max_n + 1):\n",
    "        ps[i, j] = p_over_k(i - 1, j - 2, kmax, ps)\n",
    "\n",
    "\n",
    "ps"
   ]
  },
  {
   "cell_type": "code",
   "execution_count": 64,
   "id": "5854ca48",
   "metadata": {},
   "outputs": [
    {
     "data": {
      "text/plain": [
       "array([[ 0,  1,  2,  3,  4,  5,  6,  7,  8,  9, 10],\n",
       "       [ 0,  0,  1,  1,  2,  2,  3,  3,  4,  4,  5],\n",
       "       [ 0,  0,  0,  1,  1,  1,  2,  2,  2,  3,  3],\n",
       "       [ 0,  0,  0,  0,  1,  1,  1,  1,  2,  2,  2],\n",
       "       [ 0,  0,  0,  0,  0,  1,  1,  1,  1,  1,  2]])"
      ]
     },
     "execution_count": 64,
     "metadata": {},
     "output_type": "execute_result"
    }
   ],
   "source": [
    "kmax"
   ]
  },
  {
   "cell_type": "code",
   "execution_count": 66,
   "id": "1ae2b685",
   "metadata": {},
   "outputs": [
    {
     "data": {
      "text/plain": [
       "0"
      ]
     },
     "execution_count": 66,
     "metadata": {},
     "output_type": "execute_result"
    }
   ],
   "source": [
    "kmax[4,4]"
   ]
  }
 ],
 "metadata": {
  "kernelspec": {
   "display_name": "Python 3 (ipykernel)",
   "language": "python",
   "name": "python3"
  },
  "language_info": {
   "codemirror_mode": {
    "name": "ipython",
    "version": 3
   },
   "file_extension": ".py",
   "mimetype": "text/x-python",
   "name": "python",
   "nbconvert_exporter": "python",
   "pygments_lexer": "ipython3",
   "version": "3.9.12"
  }
 },
 "nbformat": 4,
 "nbformat_minor": 5
}
