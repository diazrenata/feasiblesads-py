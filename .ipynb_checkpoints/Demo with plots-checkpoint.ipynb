{
 "cells": [
  {
   "cell_type": "code",
   "execution_count": 3,
   "id": "65e2a385",
   "metadata": {},
   "outputs": [
    {
     "ename": "SyntaxError",
     "evalue": "invalid syntax (1310644103.py, line 1)",
     "output_type": "error",
     "traceback": [
      "\u001b[0;36m  Input \u001b[0;32mIn [3]\u001b[0;36m\u001b[0m\n\u001b[0;31m    from fxns.* import *\u001b[0m\n\u001b[0m              ^\u001b[0m\n\u001b[0;31mSyntaxError\u001b[0m\u001b[0;31m:\u001b[0m invalid syntax\n"
     ]
    }
   ],
   "source": [
    "from fxns.fill_ps import *\n",
    "from fxns.sad_sampler import *\n",
    "\n",
    "import matplotlib.pyplot as plt\n",
    "import pandas as pd"
   ]
  },
  {
   "cell_type": "code",
   "execution_count": 2,
   "id": "9f16f8f0",
   "metadata": {},
   "outputs": [
    {
     "ename": "NameError",
     "evalue": "name 'sample_fs' is not defined",
     "output_type": "error",
     "traceback": [
      "\u001b[0;31m---------------------------------------------------------------------------\u001b[0m",
      "\u001b[0;31mNameError\u001b[0m                                 Traceback (most recent call last)",
      "Input \u001b[0;32mIn [2]\u001b[0m, in \u001b[0;36m<cell line: 5>\u001b[0;34m()\u001b[0m\n\u001b[1;32m      2\u001b[0m n\u001b[38;5;241m=\u001b[39m \u001b[38;5;241m30\u001b[39m\n\u001b[1;32m      3\u001b[0m nsamples \u001b[38;5;241m=\u001b[39m \u001b[38;5;241m50000\u001b[39m\n\u001b[0;32m----> 5\u001b[0m samples \u001b[38;5;241m=\u001b[39m \u001b[43msample_fs\u001b[49m(s, n, nsamples)\n\u001b[1;32m      7\u001b[0m samples_tally \u001b[38;5;241m=\u001b[39m tally_sets(samples)\n",
      "\u001b[0;31mNameError\u001b[0m: name 'sample_fs' is not defined"
     ]
    }
   ],
   "source": [
    "s= 5\n",
    "n= 30\n",
    "nsamples = 50000\n",
    "\n",
    "samples = sample_fs(s, n, nsamples)\n",
    "\n",
    "samples_tally = tally_sets(samples)"
   ]
  },
  {
   "cell_type": "markdown",
   "id": "749a31bc",
   "metadata": {},
   "source": [
    "## Set frequency"
   ]
  },
  {
   "cell_type": "code",
   "execution_count": null,
   "id": "15222b9b",
   "metadata": {},
   "outputs": [],
   "source": [
    "fig, ax = plt.subplots()\n",
    "\n",
    "ax.hist(samples_tally[\"frequency\"])\n",
    "\n",
    "plt.show()\n"
   ]
  },
  {
   "cell_type": "code",
   "execution_count": null,
   "id": "291f3b73",
   "metadata": {},
   "outputs": [],
   "source": [
    "unique_samples = samples_tally.shape[0]\n",
    "unique_samples"
   ]
  },
  {
   "cell_type": "code",
   "execution_count": null,
   "id": "9365ff4a",
   "metadata": {},
   "outputs": [],
   "source": [
    "nsamples/unique_samples\n"
   ]
  },
  {
   "cell_type": "markdown",
   "id": "71377ec5",
   "metadata": {},
   "source": [
    "## Plotted RADs"
   ]
  },
  {
   "cell_type": "code",
   "execution_count": null,
   "id": "edd833e7",
   "metadata": {},
   "outputs": [],
   "source": [
    "samples_long = samples_tally.drop(columns = ['frequency'])\n",
    "samples_long[\"sample\"] = range(samples_long.shape[0])\n",
    "samples_long = samples_long.melt(id_vars = 'sample', var_name = 'rank', value_name = 'abundance')\n",
    "samples_long"
   ]
  },
  {
   "cell_type": "code",
   "execution_count": null,
   "id": "cb86677a",
   "metadata": {},
   "outputs": [],
   "source": [
    "import seaborn as sns\n",
    "g = sns.relplot(x=\"rank\", y=\"abundance\", hue = \"sample\", kind=\"line\", data=samples_long)\n",
    "g"
   ]
  },
  {
   "cell_type": "code",
   "execution_count": null,
   "id": "750e4fcd",
   "metadata": {},
   "outputs": [],
   "source": []
  }
 ],
 "metadata": {
  "kernelspec": {
   "display_name": "Python 3 (ipykernel)",
   "language": "python",
   "name": "python3"
  },
  "language_info": {
   "codemirror_mode": {
    "name": "ipython",
    "version": 3
   },
   "file_extension": ".py",
   "mimetype": "text/x-python",
   "name": "python",
   "nbconvert_exporter": "python",
   "pygments_lexer": "ipython3",
   "version": "3.9.12"
  }
 },
 "nbformat": 4,
 "nbformat_minor": 5
}
