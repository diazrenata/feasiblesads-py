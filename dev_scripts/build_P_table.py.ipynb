{
 "cells": [
  {
   "cell_type": "markdown",
   "id": "9dc0e035",
   "metadata": {},
   "source": [
    "## Build a k-table.\n",
    "\n",
    "The k-table is the table of the maximum abundance for the minimum abundance species in a community of s species and n total abundance.\n",
    "\n",
    "Params:\n",
    "max_s: max number of species\n",
    "max_n: max number of individuals\n",
    "\n",
    "Returns:\n",
    "table of ks for all combinations of s and n up to max_s and max_n.\n"
   ]
  },
  {
   "cell_type": "code",
   "execution_count": 144,
   "id": "63950a68",
   "metadata": {},
   "outputs": [],
   "source": [
    "import numpy as np\n",
    "import math as math\n",
    "import pandas as pd\n",
    "import csv"
   ]
  },
  {
   "cell_type": "code",
   "execution_count": 145,
   "id": "fb3e8649",
   "metadata": {},
   "outputs": [],
   "source": [
    "def fill_ks(max_s, max_n):\n",
    "    kmax = np.zeros(shape = [max_s, max_n + 1], dtype = int)\n",
    "    \n",
    "    for i in range(max_s):\n",
    "        for j in range(max_n + 1):\n",
    "            kmax[i, j] = math.floor(j / (i + 1))\n",
    "    \n",
    "    return(kmax)"
   ]
  },
  {
   "cell_type": "code",
   "execution_count": 146,
   "id": "859cad17",
   "metadata": {},
   "outputs": [
    {
     "data": {
      "text/plain": [
       "array([[ 0,  1,  2,  3,  4,  5,  6,  7,  8,  9, 10],\n",
       "       [ 0,  0,  1,  1,  2,  2,  3,  3,  4,  4,  5],\n",
       "       [ 0,  0,  0,  1,  1,  1,  2,  2,  2,  3,  3],\n",
       "       [ 0,  0,  0,  0,  1,  1,  1,  1,  2,  2,  2],\n",
       "       [ 0,  0,  0,  0,  0,  1,  1,  1,  1,  1,  2]])"
      ]
     },
     "execution_count": 146,
     "metadata": {},
     "output_type": "execute_result"
    }
   ],
   "source": [
    "fill_ks(5, 10)"
   ]
  },
  {
   "cell_type": "markdown",
   "id": "e4c404ac",
   "metadata": {},
   "source": [
    "## Build the partition counts table\n",
    "\n",
    "Recursively build P(s, n).\n",
    "\n",
    "Params:\n",
    "max_s: max number of species\n",
    "max_n: max individuals\n",
    "\n",
    "Returns:\n",
    "matrix of P(s,n) for all combinations of s and n up to max_s and max_n\n",
    "\n",
    "Is a nightmare zone of off-by-one indexing errors, I think."
   ]
  },
  {
   "cell_type": "code",
   "execution_count": 147,
   "id": "d1a2c0e5",
   "metadata": {},
   "outputs": [],
   "source": [
    "max_s = 5\n",
    "max_n = 10"
   ]
  },
  {
   "cell_type": "code",
   "execution_count": 148,
   "id": "2a4e1038",
   "metadata": {},
   "outputs": [],
   "source": [
    "\n",
    "\n",
    "ps = np.full(shape = [max_s, max_n + 1], fill_value= np.nan)\n",
    "ps[0, range(max_n + 1)] = 1\n",
    "ps[range(max_s), 0] = 1\n",
    "ps[range(max_s), 1] = 1\n",
    "\n",
    "\n",
    "kmax = fill_ks(max_s, max_n)\n"
   ]
  },
  {
   "cell_type": "code",
   "execution_count": null,
   "id": "035f29d9",
   "metadata": {},
   "outputs": [],
   "source": []
  },
  {
   "cell_type": "code",
   "execution_count": 149,
   "id": "2079cc75",
   "metadata": {},
   "outputs": [],
   "source": [
    "# s goes from 2:max_s\n",
    "# n goes from 3:max_n + 1\n",
    "\n",
    "ss = list()\n",
    "ns = list()\n",
    "kmaxs = list()\n",
    "ks = list()\n",
    "p_lookups = list()\n",
    "p_rows = list()\n",
    "p_cols = list()\n",
    "\n",
    "def p_lookup(k, s, n, ps):\n",
    "    this_p = ps[s - 1, n - ((s + 1) * k) + 1]\n",
    "    return(this_p)\n",
    "\n",
    "for i in range(1, ps.shape[0]):\n",
    "    \n",
    "    #print(kmax[i, ])\n",
    "    \n",
    "    for j in range(2, ps.shape[1]):\n",
    "        \n",
    "        n = j - 1\n",
    "        \n",
    "        \n",
    "        for k in range(0, kmax[i, n + 1] + 1): # here you need the +1 because range() stops at stop-1\n",
    "            \n",
    "            \n",
    "            kmaxs.append(kmax[i,n + 1])\n",
    "            ss.append(i)\n",
    "            ns.append(j)\n",
    "            ks.append(k)\n",
    "            p_rows.append(i - 1)\n",
    "            p_cols.append(n - ((i + 1) * k) + 1)\n",
    "            p_lookups.append(p_lookup(k, i, n, ps))\n",
    "        \n",
    "\n",
    "ps[p_rows[92], p_cols[92]]\n",
    "\n",
    "\n",
    "\n",
    "indices = pd.DataFrame(list(zip(ss, ns, ks, p_rows, p_cols, p_lookups)), columns = ['s', 'n', 'k', 'p_row', 'p_col', 'p_lookedup'])\n",
    "indices\n",
    "\n",
    "indices.to_csv(\"indices.csv\", index = False)  "
   ]
  },
  {
   "cell_type": "code",
   "execution_count": 150,
   "id": "1b6fc26e",
   "metadata": {},
   "outputs": [],
   "source": [
    "def p_over_k(s, n, kmax_table, p_table):\n",
    "    sum_p = 0\n",
    "    this_kmax = kmax_table[s, n + 1]\n",
    "    \n",
    "    for k in range(0, this_kmax + 1):\n",
    "        sum_p = sum_p + p_lookup(k, s, n, p_table)\n",
    "    \n",
    "    return(sum_p)"
   ]
  },
  {
   "cell_type": "code",
   "execution_count": 170,
   "id": "88de5023",
   "metadata": {},
   "outputs": [
    {
     "data": {
      "text/plain": [
       "nan"
      ]
     },
     "execution_count": 170,
     "metadata": {},
     "output_type": "execute_result"
    }
   ],
   "source": [
    "p_over_k(0, 1, kmax, ps)"
   ]
  },
  {
   "cell_type": "code",
   "execution_count": 165,
   "id": "d11ff2ac",
   "metadata": {},
   "outputs": [
    {
     "data": {
      "text/plain": [
       "nan"
      ]
     },
     "execution_count": 165,
     "metadata": {},
     "output_type": "execute_result"
    }
   ],
   "source": [
    "s = 2\n",
    "n = 5\n",
    "\n",
    "sum_p = 0\n",
    "\n",
    "this_kmax = kmax[s, n + 1]\n",
    "\n",
    "for k in range(0, this_kmax + 1):\n",
    "    sum_p = sum_p + p_lookup(k, s, n, ps)\n",
    "\n",
    "sum_p"
   ]
  },
  {
   "cell_type": "code",
   "execution_count": 173,
   "id": "8ec5c88a",
   "metadata": {},
   "outputs": [],
   "source": [
    "sum_ps = list()\n",
    "\n",
    "p_over_k_ss = list()\n",
    "p_over_k_ns = list()\n",
    "\n",
    "for i in range(1, ps.shape[0]):    \n",
    "    for j in range(2, ps.shape[1]):\n",
    "        \n",
    "        n = j - 1\n",
    "        \n",
    "        p_over_k_ss.append(i)\n",
    "        p_over_k_ns.append(j)\n",
    "        \n",
    "        ps[i, j] = p_over_k(i, n, kmax, ps)\n",
    "        \n"
   ]
  },
  {
   "cell_type": "code",
   "execution_count": 178,
   "id": "886fa9f6",
   "metadata": {},
   "outputs": [
    {
     "data": {
      "text/html": [
       "<div>\n",
       "<style scoped>\n",
       "    .dataframe tbody tr th:only-of-type {\n",
       "        vertical-align: middle;\n",
       "    }\n",
       "\n",
       "    .dataframe tbody tr th {\n",
       "        vertical-align: top;\n",
       "    }\n",
       "\n",
       "    .dataframe thead th {\n",
       "        text-align: right;\n",
       "    }\n",
       "</style>\n",
       "<table border=\"1\" class=\"dataframe\">\n",
       "  <thead>\n",
       "    <tr style=\"text-align: right;\">\n",
       "      <th></th>\n",
       "      <th>0</th>\n",
       "      <th>1</th>\n",
       "      <th>2</th>\n",
       "      <th>3</th>\n",
       "      <th>4</th>\n",
       "      <th>5</th>\n",
       "      <th>6</th>\n",
       "      <th>7</th>\n",
       "      <th>8</th>\n",
       "      <th>9</th>\n",
       "      <th>10</th>\n",
       "    </tr>\n",
       "  </thead>\n",
       "  <tbody>\n",
       "    <tr>\n",
       "      <th>0</th>\n",
       "      <td>1.0</td>\n",
       "      <td>1.0</td>\n",
       "      <td>1.0</td>\n",
       "      <td>1.0</td>\n",
       "      <td>1.0</td>\n",
       "      <td>1.0</td>\n",
       "      <td>1.0</td>\n",
       "      <td>1.0</td>\n",
       "      <td>1.0</td>\n",
       "      <td>1.0</td>\n",
       "      <td>1.0</td>\n",
       "    </tr>\n",
       "    <tr>\n",
       "      <th>1</th>\n",
       "      <td>1.0</td>\n",
       "      <td>1.0</td>\n",
       "      <td>2.0</td>\n",
       "      <td>2.0</td>\n",
       "      <td>3.0</td>\n",
       "      <td>3.0</td>\n",
       "      <td>4.0</td>\n",
       "      <td>4.0</td>\n",
       "      <td>5.0</td>\n",
       "      <td>5.0</td>\n",
       "      <td>6.0</td>\n",
       "    </tr>\n",
       "    <tr>\n",
       "      <th>2</th>\n",
       "      <td>1.0</td>\n",
       "      <td>1.0</td>\n",
       "      <td>2.0</td>\n",
       "      <td>3.0</td>\n",
       "      <td>4.0</td>\n",
       "      <td>5.0</td>\n",
       "      <td>7.0</td>\n",
       "      <td>8.0</td>\n",
       "      <td>10.0</td>\n",
       "      <td>12.0</td>\n",
       "      <td>14.0</td>\n",
       "    </tr>\n",
       "    <tr>\n",
       "      <th>3</th>\n",
       "      <td>1.0</td>\n",
       "      <td>1.0</td>\n",
       "      <td>2.0</td>\n",
       "      <td>3.0</td>\n",
       "      <td>5.0</td>\n",
       "      <td>6.0</td>\n",
       "      <td>9.0</td>\n",
       "      <td>11.0</td>\n",
       "      <td>15.0</td>\n",
       "      <td>18.0</td>\n",
       "      <td>23.0</td>\n",
       "    </tr>\n",
       "    <tr>\n",
       "      <th>4</th>\n",
       "      <td>1.0</td>\n",
       "      <td>1.0</td>\n",
       "      <td>2.0</td>\n",
       "      <td>3.0</td>\n",
       "      <td>5.0</td>\n",
       "      <td>7.0</td>\n",
       "      <td>10.0</td>\n",
       "      <td>13.0</td>\n",
       "      <td>18.0</td>\n",
       "      <td>23.0</td>\n",
       "      <td>30.0</td>\n",
       "    </tr>\n",
       "  </tbody>\n",
       "</table>\n",
       "</div>"
      ],
      "text/plain": [
       "    0    1    2    3    4    5     6     7     8     9     10\n",
       "0  1.0  1.0  1.0  1.0  1.0  1.0   1.0   1.0   1.0   1.0   1.0\n",
       "1  1.0  1.0  2.0  2.0  3.0  3.0   4.0   4.0   5.0   5.0   6.0\n",
       "2  1.0  1.0  2.0  3.0  4.0  5.0   7.0   8.0  10.0  12.0  14.0\n",
       "3  1.0  1.0  2.0  3.0  5.0  6.0   9.0  11.0  15.0  18.0  23.0\n",
       "4  1.0  1.0  2.0  3.0  5.0  7.0  10.0  13.0  18.0  23.0  30.0"
      ]
     },
     "execution_count": 178,
     "metadata": {},
     "output_type": "execute_result"
    }
   ],
   "source": [
    "ps_df = pd.DataFrame(ps)\n",
    "ps_df"
   ]
  },
  {
   "cell_type": "code",
   "execution_count": 179,
   "id": "681ec59f",
   "metadata": {},
   "outputs": [],
   "source": [
    "ps_df.to_csv(\"ps.csv\", index = False)  "
   ]
  },
  {
   "cell_type": "code",
   "execution_count": null,
   "id": "5854ca48",
   "metadata": {},
   "outputs": [],
   "source": []
  },
  {
   "cell_type": "code",
   "execution_count": null,
   "id": "1ae2b685",
   "metadata": {},
   "outputs": [],
   "source": [
    "def fill_ps(max_s, max_n):\n",
    "    \n",
    "    ps = np.full(shape = [max_s, max_n + 1], fill_value= np.nan)\n",
    "    ps[0, range(max_n + 1)] = 1\n",
    "    ps[range(max_s), 0] = 1\n",
    "    ps[range(max_s), 1] = 1\n",
    "\n",
    "\n",
    "    kmax = fill_ks(max_s, max_n)\n",
    "    \n",
    "    for i in range(1, ps.shape[0]):    \n",
    "    for j in range(2, ps.shape[1]):\n",
    "        \n",
    "        n = j - 1\n",
    "        \n",
    "        ps[i, j] = p_over_k(i, n, kmax, ps)\n",
    "    \n",
    "    return(ps)\n",
    "    "
   ]
  }
 ],
 "metadata": {
  "kernelspec": {
   "display_name": "Python 3 (ipykernel)",
   "language": "python",
   "name": "python3"
  },
  "language_info": {
   "codemirror_mode": {
    "name": "ipython",
    "version": 3
   },
   "file_extension": ".py",
   "mimetype": "text/x-python",
   "name": "python",
   "nbconvert_exporter": "python",
   "pygments_lexer": "ipython3",
   "version": "3.9.12"
  }
 },
 "nbformat": 4,
 "nbformat_minor": 5
}
