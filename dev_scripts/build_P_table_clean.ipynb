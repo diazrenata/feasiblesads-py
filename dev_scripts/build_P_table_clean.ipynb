{
 "cells": [
  {
   "cell_type": "code",
   "execution_count": 1,
   "id": "35b7858d",
   "metadata": {},
   "outputs": [],
   "source": [
    "import numpy as np\n",
    "import math as math\n",
    "\n",
    "def fill_ks(max_s, max_n):\n",
    "    kmax = np.zeros(shape = [max_s, max_n + 1], dtype = int)\n",
    "    \n",
    "    for i in range(max_s):\n",
    "        for j in range(max_n + 1):\n",
    "            kmax[i, j] = math.floor(j / (i + 1))\n",
    "    \n",
    "    return(kmax)\n",
    "\n",
    "def p_lookup(k, s, n, ps):\n",
    "    this_p = ps[s - 1, n - ((s + 1) * k) + 1]\n",
    "    return(this_p)\n",
    "\n",
    "def p_over_k(s, n, kmax_table, p_table):\n",
    "    sum_p = 0\n",
    "    this_kmax = kmax_table[s, n + 1]\n",
    "    \n",
    "    for k in range(0, this_kmax + 1):\n",
    "        sum_p = sum_p + p_lookup(k, s, n, p_table)\n",
    "    \n",
    "    return(sum_p)\n",
    "\n",
    "def fill_ps(max_s, max_n):\n",
    "    \n",
    "    ps = np.full(shape = [max_s, max_n + 1], fill_value= np.nan)\n",
    "    ps[0, range(max_n + 1)] = 1\n",
    "    ps[range(max_s), 0] = 1\n",
    "    ps[range(max_s), 1] = 1\n",
    "\n",
    "\n",
    "    kmax = fill_ks(max_s, max_n)\n",
    "    \n",
    "    for i in range(1, ps.shape[0]):    \n",
    "        for j in range(2, ps.shape[1]):\n",
    "        \n",
    "            n = j - 1\n",
    "        \n",
    "            ps[i, j] = p_over_k(i, n, kmax, ps)\n",
    "    \n",
    "    return(ps)"
   ]
  },
  {
   "cell_type": "code",
   "execution_count": 10,
   "id": "846fa0e0",
   "metadata": {},
   "outputs": [
    {
     "data": {
      "text/plain": [
       "array([[ 1.,  1.,  1.,  1.,  1.,  1.,  1.,  1.,  1.,  1.,  1.,  1.,  1.,\n",
       "         1.,  1.,  1.],\n",
       "       [ 1.,  1.,  2.,  2.,  3.,  3.,  4.,  4.,  5.,  5.,  6.,  6.,  7.,\n",
       "         7.,  8.,  8.],\n",
       "       [ 1.,  1.,  2.,  3.,  4.,  5.,  7.,  8., 10., 12., 14., 16., 19.,\n",
       "        21., 24., 27.],\n",
       "       [ 1.,  1.,  2.,  3.,  5.,  6.,  9., 11., 15., 18., 23., 27., 34.,\n",
       "        39., 47., 54.],\n",
       "       [ 1.,  1.,  2.,  3.,  5.,  7., 10., 13., 18., 23., 30., 37., 47.,\n",
       "        57., 70., 84.]])"
      ]
     },
     "execution_count": 10,
     "metadata": {},
     "output_type": "execute_result"
    }
   ],
   "source": [
    "test_ps = fill_ps(5, 15)\n",
    "test_ps"
   ]
  }
 ],
 "metadata": {
  "kernelspec": {
   "display_name": "Python 3 (ipykernel)",
   "language": "python",
   "name": "python3"
  },
  "language_info": {
   "codemirror_mode": {
    "name": "ipython",
    "version": 3
   },
   "file_extension": ".py",
   "mimetype": "text/x-python",
   "name": "python",
   "nbconvert_exporter": "python",
   "pygments_lexer": "ipython3",
   "version": "3.9.12"
  }
 },
 "nbformat": 4,
 "nbformat_minor": 5
}
