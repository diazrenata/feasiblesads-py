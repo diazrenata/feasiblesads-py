{
 "cells": [
  {
   "cell_type": "markdown",
   "id": "c62c4ee9",
   "metadata": {},
   "source": [
    "Draw a single sample from the feasible set.\n",
    "\n",
    "\n",
    "Params:\n",
    "\n",
    "s number of species\n",
    "n number of individuals\n",
    "ps the p table \n",
    "ks the k table\n",
    "\n",
    "Returns:\n",
    "\n",
    "a vector of length `s` whose elements sum to `n`, in non-decreasing order"
   ]
  },
  {
   "cell_type": "code",
   "execution_count": 1,
   "id": "e8640405",
   "metadata": {},
   "outputs": [],
   "source": [
    "from fill_ps import *\n",
    "import pandas as pd\n",
    "import random as random\n",
    "s = 5\n",
    "n = 10\n",
    "ps = fill_ps(s, n)\n",
    "ks = fill_ks(s, n)"
   ]
  },
  {
   "cell_type": "code",
   "execution_count": 2,
   "id": "94baad20",
   "metadata": {},
   "outputs": [],
   "source": [
    "def send_gnome(s, n, ps, ks):\n",
    "    \n",
    "\n",
    "    this_gnome = [0] * s\n",
    "\n",
    "    if s == 1:\n",
    "        return(this_gnome)\n",
    "    \n",
    "    slots_remaining = s\n",
    "    n_remaining = n\n",
    "    \n",
    "    current_size = 0\n",
    "    \n",
    "    for species_slot in range(s):\n",
    "        \n",
    "        # final species slot\n",
    "        \n",
    "        if species_slot == s - 1:\n",
    "            \n",
    "            this_gnome[species_slot] = current_size + n_remaining\n",
    "            break\n",
    "        \n",
    "        if species_slot == 0:\n",
    "            \n",
    "            # first species value is a boundary case\n",
    "            # for the first, the values of n range from 1 to ks[s, n + 1]\n",
    "            \n",
    "            ns = list(range(1,ks[slots_remaining - 1, n_remaining]))\n",
    "            \n",
    "        else: \n",
    "                \n",
    "            # for the rest, the values of n range from 0 to ks[slots_remaining, n_remaining + 1]\n",
    "\n",
    "            ns = list(range(0, ks[slots_remaining - 1, n_remaining]))\n",
    "        \n",
    "        # the probability of selecting each n is proportional the the number of partitions possible were you to choose that n, divided by the total number of possible partitions across all possible choices for n.\n",
    "        n_parts = ps[slots_remaining - 2, ([n_remaining - (x*slots_remaining) for x in ns])]\n",
    "        \n",
    "        # total partition size\n",
    "        total_parts = sum(n_parts)\n",
    "        \n",
    "        # probability of each n choice\n",
    "        p_ns = n_parts / total_parts\n",
    "        \n",
    "        this_increment = random.choices(ns, weights = p_ns, k = 1)\n",
    "        \n",
    "        current_size = current_size + this_increment[0]\n",
    "        this_gnome[species_slot] = current_size\n",
    "        n_remaining = n_remaining - (slots_remaining * this_increment[0])\n",
    "        slots_remaining = slots_remaining - 1\n",
    "    \n",
    "    return(this_gnome)\n",
    "    \n"
   ]
  },
  {
   "cell_type": "code",
   "execution_count": 3,
   "id": "559d3ecb",
   "metadata": {},
   "outputs": [
    {
     "data": {
      "text/plain": [
       "[1, 1, 1, 2, 5]"
      ]
     },
     "execution_count": 3,
     "metadata": {},
     "output_type": "execute_result"
    }
   ],
   "source": [
    "fs = send_gnome(5, 10, ps, ks)\n",
    "fs"
   ]
  },
  {
   "cell_type": "markdown",
   "id": "08d28836",
   "metadata": {},
   "source": [
    "FS sampler\n",
    "\n",
    "Draw samples from the feasible set given S and N.\n",
    "\n",
    "Params:\n",
    "\n",
    "s\n",
    "n\n",
    "nsamples\n",
    "\n",
    "Returns:\n",
    "\n",
    "something."
   ]
  },
  {
   "cell_type": "code",
   "execution_count": 4,
   "id": "7538d96c",
   "metadata": {},
   "outputs": [],
   "source": [
    "def sample_fs(s, n, nsamples, p_table = None):\n",
    "    \n",
    "    if p_table is None:\n",
    "        \n",
    "        p_table = fill_ps(s, n)\n",
    "    \n",
    "    ks = fill_ks(s, n)\n",
    "    \n",
    "    sets = np.zeros(shape = [nsamples, s], dtype = int)\n",
    "    \n",
    "    for idx in range(nsamples):\n",
    "        \n",
    "        sets[idx, ] = send_gnome(s, n, p_table, ks)\n",
    "        \n",
    "    return(sets)"
   ]
  },
  {
   "cell_type": "code",
   "execution_count": 5,
   "id": "6d931615",
   "metadata": {},
   "outputs": [
    {
     "data": {
      "text/plain": [
       "array([[ 1,  1,  1,  4, 13],\n",
       "       [ 2,  2,  3,  5,  8],\n",
       "       [ 2,  2,  2,  5,  9],\n",
       "       [ 1,  3,  3,  4,  9],\n",
       "       [ 1,  1,  2,  4, 12]])"
      ]
     },
     "execution_count": 5,
     "metadata": {},
     "output_type": "execute_result"
    }
   ],
   "source": [
    "some_samples = sample_fs(s = 5, n = 20, nsamples = 1000)\n",
    "\n",
    "some_samples[range(5),]"
   ]
  },
  {
   "cell_type": "code",
   "execution_count": 6,
   "id": "d8c89331",
   "metadata": {},
   "outputs": [],
   "source": [
    "def tally_sets(fs_samples):\n",
    "    \n",
    "    values, counts = np.unique(fs_samples, return_counts = True, axis  = 0)\n",
    "\n",
    "    values_df = pd.DataFrame(values)\n",
    "    \n",
    "    values_df[\"frequency\"] = counts\n",
    "    \n",
    "    return(values_df)\n"
   ]
  },
  {
   "cell_type": "code",
   "execution_count": null,
   "id": "653310ce",
   "metadata": {},
   "outputs": [],
   "source": []
  },
  {
   "cell_type": "code",
   "execution_count": null,
   "id": "3e9b5c04",
   "metadata": {},
   "outputs": [],
   "source": []
  }
 ],
 "metadata": {
  "kernelspec": {
   "display_name": "Python 3 (ipykernel)",
   "language": "python",
   "name": "python3"
  },
  "language_info": {
   "codemirror_mode": {
    "name": "ipython",
    "version": 3
   },
   "file_extension": ".py",
   "mimetype": "text/x-python",
   "name": "python",
   "nbconvert_exporter": "python",
   "pygments_lexer": "ipython3",
   "version": "3.9.12"
  }
 },
 "nbformat": 4,
 "nbformat_minor": 5
}
