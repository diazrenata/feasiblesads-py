{
 "cells": [
  {
   "cell_type": "markdown",
   "id": "c62c4ee9",
   "metadata": {},
   "source": [
    "Draw a single sample from the feasible set.\n",
    "\n",
    "\n",
    "Params:\n",
    "\n",
    "s number of species\n",
    "n number of individuals\n",
    "ps the p table \n",
    "ks the k table\n",
    "\n",
    "Returns:\n",
    "\n",
    "a vector of length `s` whose elements sum to `n`, in non-decreasing order"
   ]
  },
  {
   "cell_type": "code",
   "execution_count": 36,
   "id": "e8640405",
   "metadata": {},
   "outputs": [],
   "source": [
    "from fill_ps import *\n",
    "import random as random\n",
    "s = 5\n",
    "n = 10\n",
    "ps = fill_ps(s, n)\n",
    "ks = fill_ks(s, n)"
   ]
  },
  {
   "cell_type": "code",
   "execution_count": 43,
   "id": "94baad20",
   "metadata": {},
   "outputs": [],
   "source": [
    "def send_gnome(s, n, ps, ks):\n",
    "    \n",
    "\n",
    "    this_gnome = [0] * s\n",
    "\n",
    "    if s == 1:\n",
    "        return(this_gnome)\n",
    "    \n",
    "    slots_remaining = s\n",
    "    n_remaining = n\n",
    "    \n",
    "    current_size = 0\n",
    "    \n",
    "    for species_slot in range(s):\n",
    "        \n",
    "        # final species slot\n",
    "        \n",
    "        if species_slot == s - 1:\n",
    "            \n",
    "            this_gnome[species_slot] = current_size + n_remaining\n",
    "            break\n",
    "        \n",
    "        if species_slot == 0:\n",
    "            \n",
    "            # first species value is a boundary case\n",
    "            # for the first, the values of n range from 1 to ks[s, n + 1]\n",
    "            \n",
    "            ns = list(range(1,ks[slots_remaining - 1, n_remaining]))\n",
    "            \n",
    "        else: \n",
    "                \n",
    "            # for the rest, the values of n range from 0 to ks[slots_remaining, n_remaining + 1]\n",
    "\n",
    "            ns = list(range(0, ks[slots_remaining - 1, n_remaining]))\n",
    "        \n",
    "        # the probability of selecting each n is proportional the the number of partitions possible were you to choose that n, divided by the total number of possible partitions across all possible choices for n.\n",
    "        n_parts = ps[slots_remaining - 2, ([n_remaining - (x*slots_remaining) for x in ns])]\n",
    "        \n",
    "        # total partition size\n",
    "        total_parts = sum(n_parts)\n",
    "        \n",
    "        # probability of each n choice\n",
    "        p_ns = n_parts / total_parts\n",
    "        \n",
    "        this_increment = random.choices(ns, weights = p_ns, k = 1)\n",
    "        \n",
    "        current_size = current_size + this_increment[0]\n",
    "        this_gnome[species_slot] = current_size\n",
    "        n_remaining = n_remaining - (slots_remaining * this_increment[0])\n",
    "        slots_remaining = slots_remaining - 1\n",
    "    \n",
    "    return(this_gnome)\n",
    "    \n"
   ]
  },
  {
   "cell_type": "code",
   "execution_count": 44,
   "id": "559d3ecb",
   "metadata": {},
   "outputs": [
    {
     "data": {
      "text/plain": [
       "[1, 1, 1, 2, 5]"
      ]
     },
     "execution_count": 44,
     "metadata": {},
     "output_type": "execute_result"
    }
   ],
   "source": [
    "fs = send_gnome(5, 10, ps, ks)\n",
    "fs"
   ]
  },
  {
   "cell_type": "code",
   "execution_count": 46,
   "id": "0b7f37b8",
   "metadata": {},
   "outputs": [
    {
     "data": {
      "text/plain": [
       "10"
      ]
     },
     "execution_count": 46,
     "metadata": {},
     "output_type": "execute_result"
    }
   ],
   "source": [
    "sum(fs)"
   ]
  }
 ],
 "metadata": {
  "kernelspec": {
   "display_name": "Python 3 (ipykernel)",
   "language": "python",
   "name": "python3"
  },
  "language_info": {
   "codemirror_mode": {
    "name": "ipython",
    "version": 3
   },
   "file_extension": ".py",
   "mimetype": "text/x-python",
   "name": "python",
   "nbconvert_exporter": "python",
   "pygments_lexer": "ipython3",
   "version": "3.9.12"
  }
 },
 "nbformat": 4,
 "nbformat_minor": 5
}
