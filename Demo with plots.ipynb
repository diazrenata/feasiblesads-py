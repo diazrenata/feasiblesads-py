{
 "cells": [
  {
   "cell_type": "code",
   "execution_count": 1,
   "id": "65e2a385",
   "metadata": {},
   "outputs": [],
   "source": [
    "from fxns.fill_ps import *\n",
    "from fxns.sad_sampler import *\n",
    "\n",
    "import matplotlib.pyplot as plt\n",
    "import pandas as pd\n",
    "from numpy.random import default_rng"
   ]
  },
  {
   "cell_type": "code",
   "execution_count": 2,
   "id": "9f16f8f0",
   "metadata": {},
   "outputs": [],
   "source": [
    "s= 5\n",
    "n= 30\n",
    "nsamples = 50000\n",
    "\n",
    "samples = sample_fs(s, n, nsamples)\n",
    "\n",
    "samples_tally = tally_sets(samples)"
   ]
  },
  {
   "cell_type": "markdown",
   "id": "749a31bc",
   "metadata": {},
   "source": [
    "## Set frequency"
   ]
  },
  {
   "cell_type": "code",
   "execution_count": 3,
   "id": "15222b9b",
   "metadata": {},
   "outputs": [
    {
     "data": {
      "image/png": "[encoded data removed]",
      "text/plain": [
       "<Figure size 432x288 with 1 Axes>"
      ]
     },
     "metadata": {
      "needs_background": "light"
     },
     "output_type": "display_data"
    }
   ],
   "source": [
    "fig, ax = plt.subplots()\n",
    "\n",
    "ax.hist(samples_tally[\"frequency\"])\n",
    "\n",
    "plt.show()\n"
   ]
  },
  {
   "cell_type": "code",
   "execution_count": 4,
   "id": "291f3b73",
   "metadata": {},
   "outputs": [
    {
     "data": {
      "text/plain": [
       "377"
      ]
     },
     "execution_count": 4,
     "metadata": {},
     "output_type": "execute_result"
    }
   ],
   "source": [
    "unique_samples = samples_tally.shape[0]\n",
    "unique_samples"
   ]
  },
  {
   "cell_type": "code",
   "execution_count": 5,
   "id": "9365ff4a",
   "metadata": {},
   "outputs": [
    {
     "data": {
      "text/plain": [
       "132.6259946949602"
      ]
     },
     "execution_count": 5,
     "metadata": {},
     "output_type": "execute_result"
    }
   ],
   "source": [
    "nsamples/unique_samples"
   ]
  },
  {
   "cell_type": "code",
   "execution_count": 6,
   "id": "530904fe-27a5-4466-84cc-920d57c06e4e",
   "metadata": {},
   "outputs": [
    {
     "data": {
      "text/html": [
       "<div>\n",
       "<style scoped>\n",
       "    .dataframe tbody tr th:only-of-type {\n",
       "        vertical-align: middle;\n",
       "    }\n",
       "\n",
       "    .dataframe tbody tr th {\n",
       "        vertical-align: top;\n",
       "    }\n",
       "\n",
       "    .dataframe thead th {\n",
       "        text-align: right;\n",
       "    }\n",
       "</style>\n",
       "<table border=\"1\" class=\"dataframe\">\n",
       "  <thead>\n",
       "    <tr style=\"text-align: right;\">\n",
       "      <th></th>\n",
       "      <th>0</th>\n",
       "      <th>1</th>\n",
       "      <th>2</th>\n",
       "      <th>3</th>\n",
       "      <th>4</th>\n",
       "      <th>frequency</th>\n",
       "    </tr>\n",
       "  </thead>\n",
       "  <tbody>\n",
       "    <tr>\n",
       "      <th>0</th>\n",
       "      <td>1</td>\n",
       "      <td>1</td>\n",
       "      <td>1</td>\n",
       "      <td>1</td>\n",
       "      <td>26</td>\n",
       "      <td>149</td>\n",
       "    </tr>\n",
       "    <tr>\n",
       "      <th>1</th>\n",
       "      <td>1</td>\n",
       "      <td>1</td>\n",
       "      <td>1</td>\n",
       "      <td>2</td>\n",
       "      <td>25</td>\n",
       "      <td>121</td>\n",
       "    </tr>\n",
       "    <tr>\n",
       "      <th>2</th>\n",
       "      <td>1</td>\n",
       "      <td>1</td>\n",
       "      <td>1</td>\n",
       "      <td>3</td>\n",
       "      <td>24</td>\n",
       "      <td>139</td>\n",
       "    </tr>\n",
       "    <tr>\n",
       "      <th>3</th>\n",
       "      <td>1</td>\n",
       "      <td>1</td>\n",
       "      <td>1</td>\n",
       "      <td>4</td>\n",
       "      <td>23</td>\n",
       "      <td>136</td>\n",
       "    </tr>\n",
       "    <tr>\n",
       "      <th>4</th>\n",
       "      <td>1</td>\n",
       "      <td>1</td>\n",
       "      <td>1</td>\n",
       "      <td>5</td>\n",
       "      <td>22</td>\n",
       "      <td>127</td>\n",
       "    </tr>\n",
       "    <tr>\n",
       "      <th>...</th>\n",
       "      <td>...</td>\n",
       "      <td>...</td>\n",
       "      <td>...</td>\n",
       "      <td>...</td>\n",
       "      <td>...</td>\n",
       "      <td>...</td>\n",
       "    </tr>\n",
       "    <tr>\n",
       "      <th>372</th>\n",
       "      <td>5</td>\n",
       "      <td>5</td>\n",
       "      <td>5</td>\n",
       "      <td>7</td>\n",
       "      <td>8</td>\n",
       "      <td>133</td>\n",
       "    </tr>\n",
       "    <tr>\n",
       "      <th>373</th>\n",
       "      <td>5</td>\n",
       "      <td>5</td>\n",
       "      <td>6</td>\n",
       "      <td>6</td>\n",
       "      <td>8</td>\n",
       "      <td>127</td>\n",
       "    </tr>\n",
       "    <tr>\n",
       "      <th>374</th>\n",
       "      <td>5</td>\n",
       "      <td>5</td>\n",
       "      <td>6</td>\n",
       "      <td>7</td>\n",
       "      <td>7</td>\n",
       "      <td>125</td>\n",
       "    </tr>\n",
       "    <tr>\n",
       "      <th>375</th>\n",
       "      <td>5</td>\n",
       "      <td>6</td>\n",
       "      <td>6</td>\n",
       "      <td>6</td>\n",
       "      <td>7</td>\n",
       "      <td>145</td>\n",
       "    </tr>\n",
       "    <tr>\n",
       "      <th>376</th>\n",
       "      <td>6</td>\n",
       "      <td>6</td>\n",
       "      <td>6</td>\n",
       "      <td>6</td>\n",
       "      <td>6</td>\n",
       "      <td>124</td>\n",
       "    </tr>\n",
       "  </tbody>\n",
       "</table>\n",
       "<p>377 rows × 6 columns</p>\n",
       "</div>"
      ],
      "text/plain": [
       "     0  1  2  3   4  frequency\n",
       "0    1  1  1  1  26        149\n",
       "1    1  1  1  2  25        121\n",
       "2    1  1  1  3  24        139\n",
       "3    1  1  1  4  23        136\n",
       "4    1  1  1  5  22        127\n",
       "..  .. .. .. ..  ..        ...\n",
       "372  5  5  5  7   8        133\n",
       "373  5  5  6  6   8        127\n",
       "374  5  5  6  7   7        125\n",
       "375  5  6  6  6   7        145\n",
       "376  6  6  6  6   6        124\n",
       "\n",
       "[377 rows x 6 columns]"
      ]
     },
     "execution_count": 6,
     "metadata": {},
     "output_type": "execute_result"
    }
   ],
   "source": [
    "samples_tally"
   ]
  },
  {
   "cell_type": "markdown",
   "id": "b15412ec",
   "metadata": {},
   "source": [
    "### Compare distribution of set frequency to draws from a uniform distribution"
   ]
  },
  {
   "cell_type": "code",
   "execution_count": 7,
   "id": "b4eeb828",
   "metadata": {},
   "outputs": [
    {
     "data": {
      "image/png": "[encoded data removed]",
      "text/plain": [
       "<Figure size 432x288 with 1 Axes>"
      ]
     },
     "metadata": {
      "needs_background": "light"
     },
     "output_type": "display_data"
    }
   ],
   "source": [
    "rng = default_rng()\n",
    "vals = rng.integers(unique_samples, size = nsamples)\n",
    "\n",
    "v, freq = np.unique(vals, return_counts = True, axis  = 0)\n",
    "\n",
    "uniform_df = pd.DataFrame(v)\n",
    "\n",
    "uniform_df[\"frequency\"] = freq\n",
    "\n",
    "fig, ax = plt.subplots()\n",
    "\n",
    "ax.hist(uniform_df[\"frequency\"])\n",
    "\n",
    "plt.show()\n"
   ]
  },
  {
   "cell_type": "markdown",
   "id": "71377ec5",
   "metadata": {},
   "source": [
    "## Plotted RADs"
   ]
  },
  {
   "cell_type": "code",
   "execution_count": null,
   "id": "edd833e7",
   "metadata": {},
   "outputs": [],
   "source": [
    "samples_long = samples_tally.drop(columns = ['frequency'])\n",
    "samples_long[\"sample\"] = range(samples_long.shape[0])\n",
    "samples_long = samples_long.melt(id_vars = 'sample', var_name = 'rank', value_name = 'abundance')\n",
    "samples_long"
   ]
  },
  {
   "cell_type": "code",
   "execution_count": null,
   "id": "cb86677a",
   "metadata": {},
   "outputs": [],
   "source": [
    "import seaborn as sns\n",
    "g = sns.relplot(x=\"rank\", y=\"abundance\", hue = \"sample\", kind=\"line\", data=samples_long)\n",
    "g"
   ]
  },
  {
   "cell_type": "code",
   "execution_count": null,
   "id": "750e4fcd",
   "metadata": {},
   "outputs": [],
   "source": []
  }
 ],
 "metadata": {
  "kernelspec": {
   "display_name": "Python 3 (ipykernel)",
   "language": "python",
   "name": "python3"
  },
  "language_info": {
   "codemirror_mode": {
    "name": "ipython",
    "version": 3
   },
   "file_extension": ".py",
   "mimetype": "text/x-python",
   "name": "python",
   "nbconvert_exporter": "python",
   "pygments_lexer": "ipython3",
   "version": "3.9.12"
  }
 },
 "nbformat": 4,
 "nbformat_minor": 5
}
