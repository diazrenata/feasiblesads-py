{
 "cells": [
  {
   "cell_type": "code",
   "execution_count": 1,
   "id": "65e2a385",
   "metadata": {},
   "outputs": [],
   "source": [
    "from fxns.fill_ps import *\n",
    "from fxns.sad_sampler import *\n",
    "\n",
    "import matplotlib.pyplot as plt\n",
    "import pandas as pd\n",
    "from numpy.random import default_rng"
   ]
  },
  {
   "cell_type": "code",
   "execution_count": 2,
   "id": "9f16f8f0",
   "metadata": {},
   "outputs": [],
   "source": [
    "s= 5\n",
    "n= 50\n",
    "nsamples = 50000\n",
    "\n",
    "samples = sample_fs(s, n, nsamples)\n",
    "\n",
    "samples_tally = tally_sets(samples)"
   ]
  },
  {
   "cell_type": "markdown",
   "id": "749a31bc",
   "metadata": {},
   "source": [
    "## Set frequency"
   ]
  },
  {
   "cell_type": "code",
   "execution_count": 3,
   "id": "15222b9b",
   "metadata": {},
   "outputs": [
    {
     "data": {
      "image/png": "[encoded data removed]",
      "text/plain": [
       "<Figure size 432x288 with 1 Axes>"
      ]
     },
     "metadata": {
      "needs_background": "light"
     },
     "output_type": "display_data"
    }
   ],
   "source": [
    "fig, ax = plt.subplots()\n",
    "\n",
    "ax.hist(samples_tally[\"frequency\"])\n",
    "\n",
    "plt.show()\n"
   ]
  },
  {
   "cell_type": "code",
   "execution_count": 4,
   "id": "291f3b73",
   "metadata": {},
   "outputs": [
    {
     "data": {
      "text/plain": [
       "2211"
      ]
     },
     "execution_count": 4,
     "metadata": {},
     "output_type": "execute_result"
    }
   ],
   "source": [
    "unique_samples = samples_tally.shape[0]\n",
    "unique_samples"
   ]
  },
  {
   "cell_type": "code",
   "execution_count": 5,
   "id": "9365ff4a",
   "metadata": {},
   "outputs": [
    {
     "data": {
      "text/plain": [
       "22.61420171867933"
      ]
     },
     "execution_count": 5,
     "metadata": {},
     "output_type": "execute_result"
    }
   ],
   "source": [
    "nsamples/unique_samples"
   ]
  },
  {
   "cell_type": "markdown",
   "id": "b15412ec",
   "metadata": {},
   "source": [
    "### Compare distribution of set frequency to draws from a uniform distribution"
   ]
  },
  {
   "cell_type": "code",
   "execution_count": 6,
   "id": "b4eeb828",
   "metadata": {},
   "outputs": [
    {
     "data": {
      "image/png": "[encoded data removed]",
      "text/plain": [
       "<Figure size 432x288 with 1 Axes>"
      ]
     },
     "metadata": {
      "needs_background": "light"
     },
     "output_type": "display_data"
    }
   ],
   "source": [
    "rng = default_rng()\n",
    "vals = rng.integers(unique_samples, size = nsamples)\n",
    "\n",
    "v, freq = np.unique(vals, return_counts = True, axis  = 0)\n",
    "\n",
    "uniform_df = pd.DataFrame(v)\n",
    "\n",
    "uniform_df[\"frequency\"] = freq\n",
    "\n",
    "fig, ax = plt.subplots()\n",
    "\n",
    "ax.hist(uniform_df[\"frequency\"])\n",
    "\n",
    "plt.show()\n"
   ]
  },
  {
   "cell_type": "markdown",
   "id": "71377ec5",
   "metadata": {},
   "source": [
    "## Plotted RADs"
   ]
  },
  {
   "cell_type": "code",
   "execution_count": 7,
   "id": "edd833e7",
   "metadata": {},
   "outputs": [
    {
     "data": {
      "text/html": [
       "<div>\n",
       "<style scoped>\n",
       "    .dataframe tbody tr th:only-of-type {\n",
       "        vertical-align: middle;\n",
       "    }\n",
       "\n",
       "    .dataframe tbody tr th {\n",
       "        vertical-align: top;\n",
       "    }\n",
       "\n",
       "    .dataframe thead th {\n",
       "        text-align: right;\n",
       "    }\n",
       "</style>\n",
       "<table border=\"1\" class=\"dataframe\">\n",
       "  <thead>\n",
       "    <tr style=\"text-align: right;\">\n",
       "      <th></th>\n",
       "      <th>sample</th>\n",
       "      <th>rank</th>\n",
       "      <th>abundance</th>\n",
       "    </tr>\n",
       "  </thead>\n",
       "  <tbody>\n",
       "    <tr>\n",
       "      <th>0</th>\n",
       "      <td>0</td>\n",
       "      <td>0</td>\n",
       "      <td>1</td>\n",
       "    </tr>\n",
       "    <tr>\n",
       "      <th>1</th>\n",
       "      <td>1</td>\n",
       "      <td>0</td>\n",
       "      <td>1</td>\n",
       "    </tr>\n",
       "    <tr>\n",
       "      <th>2</th>\n",
       "      <td>2</td>\n",
       "      <td>0</td>\n",
       "      <td>1</td>\n",
       "    </tr>\n",
       "    <tr>\n",
       "      <th>3</th>\n",
       "      <td>3</td>\n",
       "      <td>0</td>\n",
       "      <td>1</td>\n",
       "    </tr>\n",
       "    <tr>\n",
       "      <th>4</th>\n",
       "      <td>4</td>\n",
       "      <td>0</td>\n",
       "      <td>1</td>\n",
       "    </tr>\n",
       "    <tr>\n",
       "      <th>...</th>\n",
       "      <td>...</td>\n",
       "      <td>...</td>\n",
       "      <td>...</td>\n",
       "    </tr>\n",
       "    <tr>\n",
       "      <th>11050</th>\n",
       "      <td>2206</td>\n",
       "      <td>4</td>\n",
       "      <td>14</td>\n",
       "    </tr>\n",
       "    <tr>\n",
       "      <th>11051</th>\n",
       "      <td>2207</td>\n",
       "      <td>4</td>\n",
       "      <td>13</td>\n",
       "    </tr>\n",
       "    <tr>\n",
       "      <th>11052</th>\n",
       "      <td>2208</td>\n",
       "      <td>4</td>\n",
       "      <td>13</td>\n",
       "    </tr>\n",
       "    <tr>\n",
       "      <th>11053</th>\n",
       "      <td>2209</td>\n",
       "      <td>4</td>\n",
       "      <td>14</td>\n",
       "    </tr>\n",
       "    <tr>\n",
       "      <th>11054</th>\n",
       "      <td>2210</td>\n",
       "      <td>4</td>\n",
       "      <td>13</td>\n",
       "    </tr>\n",
       "  </tbody>\n",
       "</table>\n",
       "<p>11055 rows × 3 columns</p>\n",
       "</div>"
      ],
      "text/plain": [
       "       sample rank  abundance\n",
       "0           0    0          1\n",
       "1           1    0          1\n",
       "2           2    0          1\n",
       "3           3    0          1\n",
       "4           4    0          1\n",
       "...       ...  ...        ...\n",
       "11050    2206    4         14\n",
       "11051    2207    4         13\n",
       "11052    2208    4         13\n",
       "11053    2209    4         14\n",
       "11054    2210    4         13\n",
       "\n",
       "[11055 rows x 3 columns]"
      ]
     },
     "execution_count": 7,
     "metadata": {},
     "output_type": "execute_result"
    }
   ],
   "source": [
    "samples_long = samples_tally.drop(columns = ['frequency'])\n",
    "samples_long[\"sample\"] = range(samples_long.shape[0])\n",
    "samples_long = samples_long.melt(id_vars = 'sample', var_name = 'rank', value_name = 'abundance')\n",
    "samples_long"
   ]
  },
  {
   "cell_type": "code",
   "execution_count": 8,
   "id": "cb86677a",
   "metadata": {},
   "outputs": [
    {
     "data": {
      "text/plain": [
       "<seaborn.axisgrid.FacetGrid at 0x7f9744557370>"
      ]
     },
     "execution_count": 8,
     "metadata": {},
     "output_type": "execute_result"
    },
    {
     "data": {
      "image/png": "[encoded data removed]",
      "text/plain": [
       "<Figure size 421.5x360 with 1 Axes>"
      ]
     },
     "metadata": {
      "needs_background": "light"
     },
     "output_type": "display_data"
    }
   ],
   "source": [
    "import seaborn as sns\n",
    "g = sns.relplot(x=\"rank\", y=\"abundance\", hue = \"sample\", kind=\"line\", data=samples_long)\n",
    "g"
   ]
  },
  {
   "cell_type": "code",
   "execution_count": null,
   "id": "750e4fcd",
   "metadata": {},
   "outputs": [],
   "source": []
  }
 ],
 "metadata": {
  "kernelspec": {
   "display_name": "Python 3 (ipykernel)",
   "language": "python",
   "name": "python3"
  },
  "language_info": {
   "codemirror_mode": {
    "name": "ipython",
    "version": 3
   },
   "file_extension": ".py",
   "mimetype": "text/x-python",
   "name": "python",
   "nbconvert_exporter": "python",
   "pygments_lexer": "ipython3",
   "version": "3.9.12"
  }
 },
 "nbformat": 4,
 "nbformat_minor": 5
}
